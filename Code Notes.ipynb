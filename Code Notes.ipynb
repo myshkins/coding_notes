{
 "cells": [
  {
   "cell_type": "markdown",
   "id": "42a3d4b5",
   "metadata": {},
   "source": [
    "# Code Notes"
   ]
  },
  {
   "cell_type": "markdown",
   "id": "e70bfbdc",
   "metadata": {},
   "source": [
    "## Table of Contents\n",
    "* [Python](#Python)\n",
    " * [basics](#python-basics)\n",
    " * [smtp](#python-smtp)\n",
    " * [file read write](#python-file-read-write)\n",
    " * [pandas](#python-pandas)\n",
    " * [selenium](#python-selenium)\n",
    " * [flask](#python-flask)\n",
    " * [flask-bootstrap](#python-flask-bootstrap)\n",
    " * [wtf](#python-wtf)\n",
    " * [ckeditor](#python-ckeditor)\n",
    " "
   ]
  },
  {
   "cell_type": "markdown",
   "id": "03705edb",
   "metadata": {},
   "source": [
    "## Python\n",
    "<a id=\"Python\"></a>"
   ]
  },
  {
   "cell_type": "markdown",
   "id": "8edad8e9",
   "metadata": {},
   "source": [
    "### Python Basics\n",
    "<a id='python-basics'></a>\n"
   ]
  },
  {
   "cell_type": "markdown",
   "id": "3d54761b",
   "metadata": {},
   "source": [
    "### SMTP\n",
    "<a id='python-smtp'></a>"
   ]
  },
  {
   "cell_type": "code",
   "execution_count": null,
   "id": "14a06411",
   "metadata": {},
   "outputs": [],
   "source": [
    "import smtp"
   ]
  }
 ],
 "metadata": {
  "kernelspec": {
   "display_name": "Python 3 (ipykernel)",
   "language": "python",
   "name": "python3"
  },
  "language_info": {
   "codemirror_mode": {
    "name": "ipython",
    "version": 3
   },
   "file_extension": ".py",
   "mimetype": "text/x-python",
   "name": "python",
   "nbconvert_exporter": "python",
   "pygments_lexer": "ipython3",
   "version": "3.9.12"
  }
 },
 "nbformat": 4,
 "nbformat_minor": 5
}

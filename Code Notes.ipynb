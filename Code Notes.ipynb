{
 "cells": [
  {
   "cell_type": "markdown",
   "id": "42a3d4b5",
   "metadata": {},
   "source": [
    "# Code Notes"
   ]
  },
  {
   "cell_type": "markdown",
   "id": "e70bfbdc",
   "metadata": {},
   "source": [
    "## Table of Contents\n",
    "* [Python](#Python)\n",
    " * [General Notes](#python-general-notes)\n",
    " * [basics](#python-basics)\n",
    " * [ckeditor](#python-ckeditor)\n",
    " * [flask](#python-flask)\n",
    " * [flask-bootstrap](#python-flask-bootstrap)\n",
    " * [pandas](#python-pandas)\n",
    " * [selenium](#python-selenium)\n",
    " * [smtp](#python-smtp)\n",
    " * [wtf](#python-wtf)"
   ]
  },
  {
   "cell_type": "markdown",
   "id": "03705edb",
   "metadata": {},
   "source": [
    "## Python\n",
    "<a id=\"Python\"></a>"
   ]
  },
  {
   "cell_type": "markdown",
   "id": "466112e7",
   "metadata": {},
   "source": [
    "### General Notes\n",
    "<a id=\"python-general-notes\"></a>"
   ]
  },
  {
   "cell_type": "markdown",
   "id": "ff40ce2f",
   "metadata": {},
   "source": [
    "General Notes  \n",
    "* Module vs Package vs Library Framework  \n",
    " A module is a python file with a collection of functions, classes, etc.  \n",
    " A package is a collection of modules.\n",
    " A library is a collection of packages.\n",
    " Library and package are often used interchangeably."
   ]
  },
  {
   "cell_type": "markdown",
   "id": "0b8ea5e0",
   "metadata": {},
   "source": [
    "### Python Basics\n",
    "<a id='python-basics'></a>\n"
   ]
  },
  {
   "cell_type": "markdown",
   "id": "4ea62394",
   "metadata": {},
   "source": []
  },
  {
   "cell_type": "markdown",
   "id": "ede9c877",
   "metadata": {},
   "source": [
    "### SMTP\n",
    "<a id='python-smtp'></a>"
   ]
  },
  {
   "cell_type": "code",
   "execution_count": null,
   "id": "77b431bd",
   "metadata": {},
   "outputs": [],
   "source": [
    "import smtplib\n",
    "\n"
   ]
  },
  {
   "cell_type": "markdown",
   "id": "92b5a8a9",
   "metadata": {},
   "source": [
    "###"
   ]
  }
 ],
 "metadata": {
  "kernelspec": {
   "display_name": "Python 3 (ipykernel)",
   "language": "python",
   "name": "python3"
  },
  "language_info": {
   "codemirror_mode": {
    "name": "ipython",
    "version": 3
   },
   "file_extension": ".py",
   "mimetype": "text/x-python",
   "name": "python",
   "nbconvert_exporter": "python",
   "pygments_lexer": "ipython3",
   "version": "3.9.12"
  }
 },
 "nbformat": 4,
 "nbformat_minor": 5
}

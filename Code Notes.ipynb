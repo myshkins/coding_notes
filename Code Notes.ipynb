{
 "cells": [
  {
   "cell_type": "markdown",
   "id": "42a3d4b5",
   "metadata": {},
   "source": [
    "# Code Notes"
   ]
  },
  {
   "cell_type": "markdown",
   "id": "e70bfbdc",
   "metadata": {},
   "source": [
    "## Table of Contents\n",
    "* [Git](#git)\n",
    "* [Networks](#networks)\n",
    "* [Python](#python)\n",
    " * [General Notes](#python-general-notes)\n",
    " * [basics](#python-basics)\n",
    " * [beautiful soup](#python-beautiful-soup)\n",
    " * [ckeditor](#python-ckeditor)\n",
    " * [flask](#python-flask)\n",
    " * [flask-bootstrap](#python-flask-bootstrap)\n",
    " * [pandas](#python-pandas)\n",
    " * [selenium](#python-selenium)\n",
    " * [smtp](#python-smtp)\n",
    " * [wtf](#python-wtf)\n",
    " * [python glossary](#python-glossary)\n"
   ]
  },
  {
   "cell_type": "markdown",
   "id": "aaa2480d",
   "metadata": {},
   "source": [
    "# Git\n",
    "<a id=\"git\"></a>"
   ]
  },
  {
   "cell_type": "markdown",
   "id": "ca89a8cf",
   "metadata": {},
   "source": [
    "#### Setup"
   ]
  },
  {
   "cell_type": "markdown",
   "id": "83757c15",
   "metadata": {},
   "source": [
    "install git"
   ]
  },
  {
   "cell_type": "code",
   "execution_count": null,
   "id": "7fa923e2",
   "metadata": {},
   "outputs": [],
   "source": [
    "$ sudo apt update\n",
    "$ sudo apt upgrade\n",
    "$ sudo add-apt-repository ppa:git-core/ppa\n",
    "$ sudo apt update\n",
    "$ sudo apt install git\n",
    "$ git --version"
   ]
  },
  {
   "cell_type": "code",
   "execution_count": null,
   "id": "b72241a7",
   "metadata": {},
   "outputs": [],
   "source": [
    "git config --global user.name \"your name\"\n",
    "git config --global user.email \"you@email.com\"\n",
    "git config --global init.defaultBranch main\n",
    "git config --global color.ui auto  #enables colorful git output\n",
    "git config --get user.name\n",
    "git config --get user.email"
   ]
  },
  {
   "cell_type": "markdown",
   "id": "d65c94aa",
   "metadata": {},
   "source": [
    "create ssh key"
   ]
  },
  {
   "cell_type": "code",
   "execution_count": null,
   "id": "5a46610f",
   "metadata": {},
   "outputs": [],
   "source": [
    "$ ls ~/.ssh/id_ed25519.pub  #check to see if key exists\n",
    "$ ssh-keygen -t ed25519 -C <you@email.com>\n",
    "$ cat ~/.ssh/id_ed25519.pub "
   ]
  },
  {
   "cell_type": "markdown",
   "id": "d0f5659d",
   "metadata": {},
   "source": [
    "copy output starting iwth ssh-ed25519 and ends with email address, then in browser under github add ssh key, paste, add key. verify ssh connection <a href=\"https://docs.github.com/en/authentication/connecting-to-github-with-ssh/testing-your-ssh-connection\">here</a>"
   ]
  },
  {
   "cell_type": "markdown",
   "id": "4ae004f9",
   "metadata": {},
   "source": [
    "# Networks\n",
    "<a id=\"networks\"></a>"
   ]
  },
  {
   "cell_type": "markdown",
   "id": "d5b6efc4",
   "metadata": {},
   "source": [
    "#### Sockets"
   ]
  },
  {
   "cell_type": "markdown",
   "id": "a5e1ded0",
   "metadata": {},
   "source": [
    "A socket is an address (ip address and port number) for transmitting data. Two sockets connect with each other to transmit data bidirectionally. Python has a socket class for instantiating socket objects. \n",
    "\n",
    "Below: \n",
    "First parameter is family parameter, __Adress Format Internet__, which is default.\n",
    "Second parameter is type, __Socket Stream__, which is default, enables \"sequenced, reliable, two-way, connection-based byte streams\" over TCP."
   ]
  },
  {
   "cell_type": "code",
   "execution_count": null,
   "id": "a97854d2",
   "metadata": {},
   "outputs": [],
   "source": [
    "import socket\n",
    "socket = socket.socket(socket.AF_INET, socket.SOCK_STREAM)"
   ]
  },
  {
   "cell_type": "markdown",
   "id": "8528b7ea",
   "metadata": {},
   "source": []
  },
  {
   "cell_type": "markdown",
   "id": "03705edb",
   "metadata": {},
   "source": [
    "# Python\n",
    "<a id=\"python\"></a>"
   ]
  },
  {
   "cell_type": "markdown",
   "id": "cd185c49",
   "metadata": {},
   "source": [
    "### General Notes\n",
    "<a id=\"python-general-notes\"></a>"
   ]
  },
  {
   "cell_type": "markdown",
   "id": "10625600",
   "metadata": {},
   "source": [
    "General Notes  \n",
    "* Module vs Package vs Library Framework  \n",
    " A module is a python file with a collection of functions, classes, etc.  \n",
    " A package is a collection of modules.\n",
    " A library is a collection of packages.\n",
    " Library and package are often used interchangeably."
   ]
  },
  {
   "cell_type": "markdown",
   "id": "58f7cc1c",
   "metadata": {},
   "source": [
    "### Python Basics\n",
    "<a id='python-basics'></a>\n"
   ]
  },
  {
   "cell_type": "markdown",
   "id": "c063b685",
   "metadata": {},
   "source": [
    "#### \\__getattribute__() and \\__getattr__\n",
    "\\__getattribute__() method that is first called to look up an object attribute\n",
    "\\__getattr__() if \\__getattribute__ does not"
   ]
  },
  {
   "cell_type": "markdown",
   "id": "e3b3396d",
   "metadata": {},
   "source": [
    "#### count()\n",
    "count the number of times an element appears in an iterable\n",
    "<a id=\"python-count\"></a>"
   ]
  },
  {
   "cell_type": "code",
   "execution_count": 9,
   "id": "7eff6ced",
   "metadata": {},
   "outputs": [
    {
     "name": "stdout",
     "output_type": "stream",
     "text": [
      "1\n"
     ]
    }
   ],
   "source": [
    "fruits = [\"apple\", \"banana\", \"cherry\"]\n",
    "\n",
    "x = fruits.count(\"cherry\")\n",
    "\n",
    "print(x)"
   ]
  },
  {
   "cell_type": "markdown",
   "id": "570bf044",
   "metadata": {},
   "source": [
    "#### docstring\n",
    "a description added to function, method, class, module, or package. Use __doc__ to access docstrings\n",
    "<a id=\"python-docstrings\"></a>"
   ]
  },
  {
   "cell_type": "code",
   "execution_count": 10,
   "id": "76903971",
   "metadata": {},
   "outputs": [
    {
     "name": "stdout",
     "output_type": "stream",
     "text": [
      "Takes in a number n, returns the square of n\n"
     ]
    }
   ],
   "source": [
    "def square(n):\n",
    "    '''Takes in a number n, returns the square of n'''\n",
    "    return n**2\n",
    "print(square.__doc__)"
   ]
  },
  {
   "cell_type": "markdown",
   "id": "7b98677d",
   "metadata": {},
   "source": [
    "#### strformat\n",
    "format a string\n",
    "<a id=\"python-strformat\"></a>"
   ]
  },
  {
   "cell_type": "code",
   "execution_count": 11,
   "id": "9c1e2431",
   "metadata": {},
   "outputs": [
    {
     "name": "stdout",
     "output_type": "stream",
     "text": [
      "my name is jon and I am 12 years old\n"
     ]
    }
   ],
   "source": [
    "print(\"my name is %s and I am %d years old\" %('jon', 12))"
   ]
  },
  {
   "cell_type": "markdown",
   "id": "488d2c63",
   "metadata": {},
   "source": [
    "#### type hints\n",
    "In the function greeting, the argument name is expected to be of type str and the return type str. Subtypes are accepted as arguments.\n",
    "<a id=\"python-type-hints\"></a>"
   ]
  },
  {
   "cell_type": "code",
   "execution_count": 12,
   "id": "93fee16e",
   "metadata": {},
   "outputs": [],
   "source": [
    "def greeting(name: str) -> str:\n",
    "    return 'Hello ' + name"
   ]
  },
  {
   "cell_type": "markdown",
   "id": "be7ca9a6",
   "metadata": {},
   "source": [
    "#### zip()\n",
    "zips two lists together into a dictionary\n",
    "<a id=\"python-zip\"></a>"
   ]
  },
  {
   "cell_type": "code",
   "execution_count": null,
   "id": "f17c86a3",
   "metadata": {},
   "outputs": [],
   "source": [
    "list1 = ['a', 'b', 'c']\n",
    "list2 = [1, ]\n",
    "result = dict(zip(list1, list2))"
   ]
  },
  {
   "cell_type": "markdown",
   "id": "d75565eb",
   "metadata": {},
   "source": [
    "### Beautiful Soup\n",
    "<a id='python-beautiful-soup'></a>"
   ]
  },
  {
   "cell_type": "markdown",
   "id": "d4a290ef",
   "metadata": {},
   "source": [
    "to skip over NavigableString objects"
   ]
  },
  {
   "cell_type": "code",
   "execution_count": null,
   "id": "2b80593e",
   "metadata": {},
   "outputs": [],
   "source": [
    "from bs4 import BeautifulSoup, NavigableString, Tag\n",
    "\n",
    "response = requests.get(url)\n",
    "soup = BeautifulSoup(response.text, 'html.parser')\n",
    "\n",
    "for body_child in soup.body.children:\n",
    "    if isinstance(body_child, NavigableString):\n",
    "        continue\n",
    "    if isinstance(body_child, Tag):\n",
    "        print(body_child.name)"
   ]
  },
  {
   "cell_type": "markdown",
   "id": "71e0cf02",
   "metadata": {},
   "source": [
    "### SMTP\n",
    "<a id='python-smtp'></a>"
   ]
  },
  {
   "cell_type": "code",
   "execution_count": 13,
   "id": "9e5f721e",
   "metadata": {},
   "outputs": [],
   "source": [
    "import smtplib\n",
    "\n"
   ]
  },
  {
   "cell_type": "markdown",
   "id": "63e1f170",
   "metadata": {},
   "source": [
    "### WTF\n",
    "<a id=\"python-wtf\"></a>"
   ]
  },
  {
   "cell_type": "code",
   "execution_count": 2,
   "id": "23197278",
   "metadata": {},
   "outputs": [],
   "source": [
    "# {{ wtf.quick_form(form) }}\n",
    "# {{ wtf.quick_form(form, novalidate=True, button_map={\"submit\": \"primary\"}) }}"
   ]
  },
  {
   "cell_type": "markdown",
   "id": "221190fb",
   "metadata": {},
   "source": [
    "### Python Glossary\n",
    "<a id=\"python-glossary\"></a>"
   ]
  },
  {
   "cell_type": "markdown",
   "id": "a9935c3c",
   "metadata": {},
   "source": [
    "[beautiful soup](#python-beautiful-soup),\n",
    "[count](#python-count),\n",
    "[docstrings](#python-docstrings),\n",
    "[smtp](#python-smtp),\n",
    "[strformat](#python-strformat),\n",
    "[type-hints](#python-type-hints)\n",
    "[zip](#python-zip)"
   ]
  }
 ],
 "metadata": {
  "kernelspec": {
   "display_name": "Python 3 (ipykernel)",
   "language": "python",
   "name": "python3"
  },
  "language_info": {
   "codemirror_mode": {
    "name": "ipython",
    "version": 3
   },
   "file_extension": ".py",
   "mimetype": "text/x-python",
   "name": "python",
   "nbconvert_exporter": "python",
   "pygments_lexer": "ipython3",
   "version": "3.10.5"
  }
 },
 "nbformat": 4,
 "nbformat_minor": 5
}
